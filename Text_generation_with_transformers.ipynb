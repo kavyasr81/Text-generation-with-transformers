{
  "nbformat": 4,
  "nbformat_minor": 0,
  "metadata": {
    "colab": {
      "provenance": []
    },
    "kernelspec": {
      "name": "python3",
      "display_name": "Python 3"
    },
    "language_info": {
      "name": "python"
    },
    "widgets": {
      "application/vnd.jupyter.widget-state+json": {
        "d49777f3bfa1437bb7b442582df11feb": {
          "model_module": "@jupyter-widgets/controls",
          "model_name": "HBoxModel",
          "model_module_version": "1.5.0",
          "state": {
            "_dom_classes": [],
            "_model_module": "@jupyter-widgets/controls",
            "_model_module_version": "1.5.0",
            "_model_name": "HBoxModel",
            "_view_count": null,
            "_view_module": "@jupyter-widgets/controls",
            "_view_module_version": "1.5.0",
            "_view_name": "HBoxView",
            "box_style": "",
            "children": [
              "IPY_MODEL_8bc46769dc764a2eac121c6255ddd88b",
              "IPY_MODEL_298cbc52c380483a817f1b3d99ef8187",
              "IPY_MODEL_e45cde8fd14b48bf8e57071ab7ffe01e"
            ],
            "layout": "IPY_MODEL_9fca374c81a54a799b387a6d51f9e08c"
          }
        },
        "8bc46769dc764a2eac121c6255ddd88b": {
          "model_module": "@jupyter-widgets/controls",
          "model_name": "HTMLModel",
          "model_module_version": "1.5.0",
          "state": {
            "_dom_classes": [],
            "_model_module": "@jupyter-widgets/controls",
            "_model_module_version": "1.5.0",
            "_model_name": "HTMLModel",
            "_view_count": null,
            "_view_module": "@jupyter-widgets/controls",
            "_view_module_version": "1.5.0",
            "_view_name": "HTMLView",
            "description": "",
            "description_tooltip": null,
            "layout": "IPY_MODEL_385a7aa928ed4638b2f19098b33b07c2",
            "placeholder": "​",
            "style": "IPY_MODEL_58de92cad1e54d34b74a44e63ad07b9b",
            "value": "Downloading (…)olve/main/vocab.json: 100%"
          }
        },
        "298cbc52c380483a817f1b3d99ef8187": {
          "model_module": "@jupyter-widgets/controls",
          "model_name": "FloatProgressModel",
          "model_module_version": "1.5.0",
          "state": {
            "_dom_classes": [],
            "_model_module": "@jupyter-widgets/controls",
            "_model_module_version": "1.5.0",
            "_model_name": "FloatProgressModel",
            "_view_count": null,
            "_view_module": "@jupyter-widgets/controls",
            "_view_module_version": "1.5.0",
            "_view_name": "ProgressView",
            "bar_style": "success",
            "description": "",
            "description_tooltip": null,
            "layout": "IPY_MODEL_05c8ceb00b0a4ce99e50878037dd1969",
            "max": 1042301,
            "min": 0,
            "orientation": "horizontal",
            "style": "IPY_MODEL_11f3a5f491274ba685f9f80c6afb92d0",
            "value": 1042301
          }
        },
        "e45cde8fd14b48bf8e57071ab7ffe01e": {
          "model_module": "@jupyter-widgets/controls",
          "model_name": "HTMLModel",
          "model_module_version": "1.5.0",
          "state": {
            "_dom_classes": [],
            "_model_module": "@jupyter-widgets/controls",
            "_model_module_version": "1.5.0",
            "_model_name": "HTMLModel",
            "_view_count": null,
            "_view_module": "@jupyter-widgets/controls",
            "_view_module_version": "1.5.0",
            "_view_name": "HTMLView",
            "description": "",
            "description_tooltip": null,
            "layout": "IPY_MODEL_1e4350ae540948a3a6cdf3f5472f7e53",
            "placeholder": "​",
            "style": "IPY_MODEL_5326e4c6f7a340388954c8e29b51cd28",
            "value": " 1.04M/1.04M [00:00&lt;00:00, 5.60MB/s]"
          }
        },
        "9fca374c81a54a799b387a6d51f9e08c": {
          "model_module": "@jupyter-widgets/base",
          "model_name": "LayoutModel",
          "model_module_version": "1.2.0",
          "state": {
            "_model_module": "@jupyter-widgets/base",
            "_model_module_version": "1.2.0",
            "_model_name": "LayoutModel",
            "_view_count": null,
            "_view_module": "@jupyter-widgets/base",
            "_view_module_version": "1.2.0",
            "_view_name": "LayoutView",
            "align_content": null,
            "align_items": null,
            "align_self": null,
            "border": null,
            "bottom": null,
            "display": null,
            "flex": null,
            "flex_flow": null,
            "grid_area": null,
            "grid_auto_columns": null,
            "grid_auto_flow": null,
            "grid_auto_rows": null,
            "grid_column": null,
            "grid_gap": null,
            "grid_row": null,
            "grid_template_areas": null,
            "grid_template_columns": null,
            "grid_template_rows": null,
            "height": null,
            "justify_content": null,
            "justify_items": null,
            "left": null,
            "margin": null,
            "max_height": null,
            "max_width": null,
            "min_height": null,
            "min_width": null,
            "object_fit": null,
            "object_position": null,
            "order": null,
            "overflow": null,
            "overflow_x": null,
            "overflow_y": null,
            "padding": null,
            "right": null,
            "top": null,
            "visibility": null,
            "width": null
          }
        },
        "385a7aa928ed4638b2f19098b33b07c2": {
          "model_module": "@jupyter-widgets/base",
          "model_name": "LayoutModel",
          "model_module_version": "1.2.0",
          "state": {
            "_model_module": "@jupyter-widgets/base",
            "_model_module_version": "1.2.0",
            "_model_name": "LayoutModel",
            "_view_count": null,
            "_view_module": "@jupyter-widgets/base",
            "_view_module_version": "1.2.0",
            "_view_name": "LayoutView",
            "align_content": null,
            "align_items": null,
            "align_self": null,
            "border": null,
            "bottom": null,
            "display": null,
            "flex": null,
            "flex_flow": null,
            "grid_area": null,
            "grid_auto_columns": null,
            "grid_auto_flow": null,
            "grid_auto_rows": null,
            "grid_column": null,
            "grid_gap": null,
            "grid_row": null,
            "grid_template_areas": null,
            "grid_template_columns": null,
            "grid_template_rows": null,
            "height": null,
            "justify_content": null,
            "justify_items": null,
            "left": null,
            "margin": null,
            "max_height": null,
            "max_width": null,
            "min_height": null,
            "min_width": null,
            "object_fit": null,
            "object_position": null,
            "order": null,
            "overflow": null,
            "overflow_x": null,
            "overflow_y": null,
            "padding": null,
            "right": null,
            "top": null,
            "visibility": null,
            "width": null
          }
        },
        "58de92cad1e54d34b74a44e63ad07b9b": {
          "model_module": "@jupyter-widgets/controls",
          "model_name": "DescriptionStyleModel",
          "model_module_version": "1.5.0",
          "state": {
            "_model_module": "@jupyter-widgets/controls",
            "_model_module_version": "1.5.0",
            "_model_name": "DescriptionStyleModel",
            "_view_count": null,
            "_view_module": "@jupyter-widgets/base",
            "_view_module_version": "1.2.0",
            "_view_name": "StyleView",
            "description_width": ""
          }
        },
        "05c8ceb00b0a4ce99e50878037dd1969": {
          "model_module": "@jupyter-widgets/base",
          "model_name": "LayoutModel",
          "model_module_version": "1.2.0",
          "state": {
            "_model_module": "@jupyter-widgets/base",
            "_model_module_version": "1.2.0",
            "_model_name": "LayoutModel",
            "_view_count": null,
            "_view_module": "@jupyter-widgets/base",
            "_view_module_version": "1.2.0",
            "_view_name": "LayoutView",
            "align_content": null,
            "align_items": null,
            "align_self": null,
            "border": null,
            "bottom": null,
            "display": null,
            "flex": null,
            "flex_flow": null,
            "grid_area": null,
            "grid_auto_columns": null,
            "grid_auto_flow": null,
            "grid_auto_rows": null,
            "grid_column": null,
            "grid_gap": null,
            "grid_row": null,
            "grid_template_areas": null,
            "grid_template_columns": null,
            "grid_template_rows": null,
            "height": null,
            "justify_content": null,
            "justify_items": null,
            "left": null,
            "margin": null,
            "max_height": null,
            "max_width": null,
            "min_height": null,
            "min_width": null,
            "object_fit": null,
            "object_position": null,
            "order": null,
            "overflow": null,
            "overflow_x": null,
            "overflow_y": null,
            "padding": null,
            "right": null,
            "top": null,
            "visibility": null,
            "width": null
          }
        },
        "11f3a5f491274ba685f9f80c6afb92d0": {
          "model_module": "@jupyter-widgets/controls",
          "model_name": "ProgressStyleModel",
          "model_module_version": "1.5.0",
          "state": {
            "_model_module": "@jupyter-widgets/controls",
            "_model_module_version": "1.5.0",
            "_model_name": "ProgressStyleModel",
            "_view_count": null,
            "_view_module": "@jupyter-widgets/base",
            "_view_module_version": "1.2.0",
            "_view_name": "StyleView",
            "bar_color": null,
            "description_width": ""
          }
        },
        "1e4350ae540948a3a6cdf3f5472f7e53": {
          "model_module": "@jupyter-widgets/base",
          "model_name": "LayoutModel",
          "model_module_version": "1.2.0",
          "state": {
            "_model_module": "@jupyter-widgets/base",
            "_model_module_version": "1.2.0",
            "_model_name": "LayoutModel",
            "_view_count": null,
            "_view_module": "@jupyter-widgets/base",
            "_view_module_version": "1.2.0",
            "_view_name": "LayoutView",
            "align_content": null,
            "align_items": null,
            "align_self": null,
            "border": null,
            "bottom": null,
            "display": null,
            "flex": null,
            "flex_flow": null,
            "grid_area": null,
            "grid_auto_columns": null,
            "grid_auto_flow": null,
            "grid_auto_rows": null,
            "grid_column": null,
            "grid_gap": null,
            "grid_row": null,
            "grid_template_areas": null,
            "grid_template_columns": null,
            "grid_template_rows": null,
            "height": null,
            "justify_content": null,
            "justify_items": null,
            "left": null,
            "margin": null,
            "max_height": null,
            "max_width": null,
            "min_height": null,
            "min_width": null,
            "object_fit": null,
            "object_position": null,
            "order": null,
            "overflow": null,
            "overflow_x": null,
            "overflow_y": null,
            "padding": null,
            "right": null,
            "top": null,
            "visibility": null,
            "width": null
          }
        },
        "5326e4c6f7a340388954c8e29b51cd28": {
          "model_module": "@jupyter-widgets/controls",
          "model_name": "DescriptionStyleModel",
          "model_module_version": "1.5.0",
          "state": {
            "_model_module": "@jupyter-widgets/controls",
            "_model_module_version": "1.5.0",
            "_model_name": "DescriptionStyleModel",
            "_view_count": null,
            "_view_module": "@jupyter-widgets/base",
            "_view_module_version": "1.2.0",
            "_view_name": "StyleView",
            "description_width": ""
          }
        },
        "508f275d5ecb47c981b2b4dfb2bdde69": {
          "model_module": "@jupyter-widgets/controls",
          "model_name": "HBoxModel",
          "model_module_version": "1.5.0",
          "state": {
            "_dom_classes": [],
            "_model_module": "@jupyter-widgets/controls",
            "_model_module_version": "1.5.0",
            "_model_name": "HBoxModel",
            "_view_count": null,
            "_view_module": "@jupyter-widgets/controls",
            "_view_module_version": "1.5.0",
            "_view_name": "HBoxView",
            "box_style": "",
            "children": [
              "IPY_MODEL_e4e88b722d0e43e68ff60e3aae0f5f71",
              "IPY_MODEL_6821e8f1d8a14fcc8223e35b076af5d9",
              "IPY_MODEL_496cc2c247ec456782bc3794d0b10f59"
            ],
            "layout": "IPY_MODEL_22b2c32dcfd24e8fbc4d40b2ad10a999"
          }
        },
        "e4e88b722d0e43e68ff60e3aae0f5f71": {
          "model_module": "@jupyter-widgets/controls",
          "model_name": "HTMLModel",
          "model_module_version": "1.5.0",
          "state": {
            "_dom_classes": [],
            "_model_module": "@jupyter-widgets/controls",
            "_model_module_version": "1.5.0",
            "_model_name": "HTMLModel",
            "_view_count": null,
            "_view_module": "@jupyter-widgets/controls",
            "_view_module_version": "1.5.0",
            "_view_name": "HTMLView",
            "description": "",
            "description_tooltip": null,
            "layout": "IPY_MODEL_59d6ea28e1184b1da4d1128ca4bd714e",
            "placeholder": "​",
            "style": "IPY_MODEL_2d4ff9058f0d4773b8c852b2026e702e",
            "value": "Downloading (…)olve/main/merges.txt: 100%"
          }
        },
        "6821e8f1d8a14fcc8223e35b076af5d9": {
          "model_module": "@jupyter-widgets/controls",
          "model_name": "FloatProgressModel",
          "model_module_version": "1.5.0",
          "state": {
            "_dom_classes": [],
            "_model_module": "@jupyter-widgets/controls",
            "_model_module_version": "1.5.0",
            "_model_name": "FloatProgressModel",
            "_view_count": null,
            "_view_module": "@jupyter-widgets/controls",
            "_view_module_version": "1.5.0",
            "_view_name": "ProgressView",
            "bar_style": "success",
            "description": "",
            "description_tooltip": null,
            "layout": "IPY_MODEL_0ca4e24ad57846d2be17ee4b52cbd5f9",
            "max": 456318,
            "min": 0,
            "orientation": "horizontal",
            "style": "IPY_MODEL_7262d8e7f5df4a0693a6a710bfae50dc",
            "value": 456318
          }
        },
        "496cc2c247ec456782bc3794d0b10f59": {
          "model_module": "@jupyter-widgets/controls",
          "model_name": "HTMLModel",
          "model_module_version": "1.5.0",
          "state": {
            "_dom_classes": [],
            "_model_module": "@jupyter-widgets/controls",
            "_model_module_version": "1.5.0",
            "_model_name": "HTMLModel",
            "_view_count": null,
            "_view_module": "@jupyter-widgets/controls",
            "_view_module_version": "1.5.0",
            "_view_name": "HTMLView",
            "description": "",
            "description_tooltip": null,
            "layout": "IPY_MODEL_8670c854b07b4ca1bd269b341891c9d4",
            "placeholder": "​",
            "style": "IPY_MODEL_74daceafa715465c88682b1d26ea8c30",
            "value": " 456k/456k [00:00&lt;00:00, 4.20MB/s]"
          }
        },
        "22b2c32dcfd24e8fbc4d40b2ad10a999": {
          "model_module": "@jupyter-widgets/base",
          "model_name": "LayoutModel",
          "model_module_version": "1.2.0",
          "state": {
            "_model_module": "@jupyter-widgets/base",
            "_model_module_version": "1.2.0",
            "_model_name": "LayoutModel",
            "_view_count": null,
            "_view_module": "@jupyter-widgets/base",
            "_view_module_version": "1.2.0",
            "_view_name": "LayoutView",
            "align_content": null,
            "align_items": null,
            "align_self": null,
            "border": null,
            "bottom": null,
            "display": null,
            "flex": null,
            "flex_flow": null,
            "grid_area": null,
            "grid_auto_columns": null,
            "grid_auto_flow": null,
            "grid_auto_rows": null,
            "grid_column": null,
            "grid_gap": null,
            "grid_row": null,
            "grid_template_areas": null,
            "grid_template_columns": null,
            "grid_template_rows": null,
            "height": null,
            "justify_content": null,
            "justify_items": null,
            "left": null,
            "margin": null,
            "max_height": null,
            "max_width": null,
            "min_height": null,
            "min_width": null,
            "object_fit": null,
            "object_position": null,
            "order": null,
            "overflow": null,
            "overflow_x": null,
            "overflow_y": null,
            "padding": null,
            "right": null,
            "top": null,
            "visibility": null,
            "width": null
          }
        },
        "59d6ea28e1184b1da4d1128ca4bd714e": {
          "model_module": "@jupyter-widgets/base",
          "model_name": "LayoutModel",
          "model_module_version": "1.2.0",
          "state": {
            "_model_module": "@jupyter-widgets/base",
            "_model_module_version": "1.2.0",
            "_model_name": "LayoutModel",
            "_view_count": null,
            "_view_module": "@jupyter-widgets/base",
            "_view_module_version": "1.2.0",
            "_view_name": "LayoutView",
            "align_content": null,
            "align_items": null,
            "align_self": null,
            "border": null,
            "bottom": null,
            "display": null,
            "flex": null,
            "flex_flow": null,
            "grid_area": null,
            "grid_auto_columns": null,
            "grid_auto_flow": null,
            "grid_auto_rows": null,
            "grid_column": null,
            "grid_gap": null,
            "grid_row": null,
            "grid_template_areas": null,
            "grid_template_columns": null,
            "grid_template_rows": null,
            "height": null,
            "justify_content": null,
            "justify_items": null,
            "left": null,
            "margin": null,
            "max_height": null,
            "max_width": null,
            "min_height": null,
            "min_width": null,
            "object_fit": null,
            "object_position": null,
            "order": null,
            "overflow": null,
            "overflow_x": null,
            "overflow_y": null,
            "padding": null,
            "right": null,
            "top": null,
            "visibility": null,
            "width": null
          }
        },
        "2d4ff9058f0d4773b8c852b2026e702e": {
          "model_module": "@jupyter-widgets/controls",
          "model_name": "DescriptionStyleModel",
          "model_module_version": "1.5.0",
          "state": {
            "_model_module": "@jupyter-widgets/controls",
            "_model_module_version": "1.5.0",
            "_model_name": "DescriptionStyleModel",
            "_view_count": null,
            "_view_module": "@jupyter-widgets/base",
            "_view_module_version": "1.2.0",
            "_view_name": "StyleView",
            "description_width": ""
          }
        },
        "0ca4e24ad57846d2be17ee4b52cbd5f9": {
          "model_module": "@jupyter-widgets/base",
          "model_name": "LayoutModel",
          "model_module_version": "1.2.0",
          "state": {
            "_model_module": "@jupyter-widgets/base",
            "_model_module_version": "1.2.0",
            "_model_name": "LayoutModel",
            "_view_count": null,
            "_view_module": "@jupyter-widgets/base",
            "_view_module_version": "1.2.0",
            "_view_name": "LayoutView",
            "align_content": null,
            "align_items": null,
            "align_self": null,
            "border": null,
            "bottom": null,
            "display": null,
            "flex": null,
            "flex_flow": null,
            "grid_area": null,
            "grid_auto_columns": null,
            "grid_auto_flow": null,
            "grid_auto_rows": null,
            "grid_column": null,
            "grid_gap": null,
            "grid_row": null,
            "grid_template_areas": null,
            "grid_template_columns": null,
            "grid_template_rows": null,
            "height": null,
            "justify_content": null,
            "justify_items": null,
            "left": null,
            "margin": null,
            "max_height": null,
            "max_width": null,
            "min_height": null,
            "min_width": null,
            "object_fit": null,
            "object_position": null,
            "order": null,
            "overflow": null,
            "overflow_x": null,
            "overflow_y": null,
            "padding": null,
            "right": null,
            "top": null,
            "visibility": null,
            "width": null
          }
        },
        "7262d8e7f5df4a0693a6a710bfae50dc": {
          "model_module": "@jupyter-widgets/controls",
          "model_name": "ProgressStyleModel",
          "model_module_version": "1.5.0",
          "state": {
            "_model_module": "@jupyter-widgets/controls",
            "_model_module_version": "1.5.0",
            "_model_name": "ProgressStyleModel",
            "_view_count": null,
            "_view_module": "@jupyter-widgets/base",
            "_view_module_version": "1.2.0",
            "_view_name": "StyleView",
            "bar_color": null,
            "description_width": ""
          }
        },
        "8670c854b07b4ca1bd269b341891c9d4": {
          "model_module": "@jupyter-widgets/base",
          "model_name": "LayoutModel",
          "model_module_version": "1.2.0",
          "state": {
            "_model_module": "@jupyter-widgets/base",
            "_model_module_version": "1.2.0",
            "_model_name": "LayoutModel",
            "_view_count": null,
            "_view_module": "@jupyter-widgets/base",
            "_view_module_version": "1.2.0",
            "_view_name": "LayoutView",
            "align_content": null,
            "align_items": null,
            "align_self": null,
            "border": null,
            "bottom": null,
            "display": null,
            "flex": null,
            "flex_flow": null,
            "grid_area": null,
            "grid_auto_columns": null,
            "grid_auto_flow": null,
            "grid_auto_rows": null,
            "grid_column": null,
            "grid_gap": null,
            "grid_row": null,
            "grid_template_areas": null,
            "grid_template_columns": null,
            "grid_template_rows": null,
            "height": null,
            "justify_content": null,
            "justify_items": null,
            "left": null,
            "margin": null,
            "max_height": null,
            "max_width": null,
            "min_height": null,
            "min_width": null,
            "object_fit": null,
            "object_position": null,
            "order": null,
            "overflow": null,
            "overflow_x": null,
            "overflow_y": null,
            "padding": null,
            "right": null,
            "top": null,
            "visibility": null,
            "width": null
          }
        },
        "74daceafa715465c88682b1d26ea8c30": {
          "model_module": "@jupyter-widgets/controls",
          "model_name": "DescriptionStyleModel",
          "model_module_version": "1.5.0",
          "state": {
            "_model_module": "@jupyter-widgets/controls",
            "_model_module_version": "1.5.0",
            "_model_name": "DescriptionStyleModel",
            "_view_count": null,
            "_view_module": "@jupyter-widgets/base",
            "_view_module_version": "1.2.0",
            "_view_name": "StyleView",
            "description_width": ""
          }
        },
        "70608264aae64e53b98f0f9a7df307e7": {
          "model_module": "@jupyter-widgets/controls",
          "model_name": "HBoxModel",
          "model_module_version": "1.5.0",
          "state": {
            "_dom_classes": [],
            "_model_module": "@jupyter-widgets/controls",
            "_model_module_version": "1.5.0",
            "_model_name": "HBoxModel",
            "_view_count": null,
            "_view_module": "@jupyter-widgets/controls",
            "_view_module_version": "1.5.0",
            "_view_name": "HBoxView",
            "box_style": "",
            "children": [
              "IPY_MODEL_572dfdaf04c4489b85cd464312be09e7",
              "IPY_MODEL_ca52e2d8866a4552acd031a53cd43405",
              "IPY_MODEL_706cb9d6c7364da08c4946b7355558dd"
            ],
            "layout": "IPY_MODEL_98019ea1ef5044368852ba5a0338e685"
          }
        },
        "572dfdaf04c4489b85cd464312be09e7": {
          "model_module": "@jupyter-widgets/controls",
          "model_name": "HTMLModel",
          "model_module_version": "1.5.0",
          "state": {
            "_dom_classes": [],
            "_model_module": "@jupyter-widgets/controls",
            "_model_module_version": "1.5.0",
            "_model_name": "HTMLModel",
            "_view_count": null,
            "_view_module": "@jupyter-widgets/controls",
            "_view_module_version": "1.5.0",
            "_view_name": "HTMLView",
            "description": "",
            "description_tooltip": null,
            "layout": "IPY_MODEL_83e886500c6b4bf0935c665f966cd813",
            "placeholder": "​",
            "style": "IPY_MODEL_b0240a242fde4b1e831a182d9623c683",
            "value": "Downloading (…)lve/main/config.json: 100%"
          }
        },
        "ca52e2d8866a4552acd031a53cd43405": {
          "model_module": "@jupyter-widgets/controls",
          "model_name": "FloatProgressModel",
          "model_module_version": "1.5.0",
          "state": {
            "_dom_classes": [],
            "_model_module": "@jupyter-widgets/controls",
            "_model_module_version": "1.5.0",
            "_model_name": "FloatProgressModel",
            "_view_count": null,
            "_view_module": "@jupyter-widgets/controls",
            "_view_module_version": "1.5.0",
            "_view_name": "ProgressView",
            "bar_style": "success",
            "description": "",
            "description_tooltip": null,
            "layout": "IPY_MODEL_8d88b464b96d44fb8401daa6614c127c",
            "max": 666,
            "min": 0,
            "orientation": "horizontal",
            "style": "IPY_MODEL_f79a90132fb04af68d12c8b8c8bf5354",
            "value": 666
          }
        },
        "706cb9d6c7364da08c4946b7355558dd": {
          "model_module": "@jupyter-widgets/controls",
          "model_name": "HTMLModel",
          "model_module_version": "1.5.0",
          "state": {
            "_dom_classes": [],
            "_model_module": "@jupyter-widgets/controls",
            "_model_module_version": "1.5.0",
            "_model_name": "HTMLModel",
            "_view_count": null,
            "_view_module": "@jupyter-widgets/controls",
            "_view_module_version": "1.5.0",
            "_view_name": "HTMLView",
            "description": "",
            "description_tooltip": null,
            "layout": "IPY_MODEL_25f0884cf45649fe86fcee04b8b822c1",
            "placeholder": "​",
            "style": "IPY_MODEL_2ece82c5b46d470c9b69ed110cf64401",
            "value": " 666/666 [00:00&lt;00:00, 26.9kB/s]"
          }
        },
        "98019ea1ef5044368852ba5a0338e685": {
          "model_module": "@jupyter-widgets/base",
          "model_name": "LayoutModel",
          "model_module_version": "1.2.0",
          "state": {
            "_model_module": "@jupyter-widgets/base",
            "_model_module_version": "1.2.0",
            "_model_name": "LayoutModel",
            "_view_count": null,
            "_view_module": "@jupyter-widgets/base",
            "_view_module_version": "1.2.0",
            "_view_name": "LayoutView",
            "align_content": null,
            "align_items": null,
            "align_self": null,
            "border": null,
            "bottom": null,
            "display": null,
            "flex": null,
            "flex_flow": null,
            "grid_area": null,
            "grid_auto_columns": null,
            "grid_auto_flow": null,
            "grid_auto_rows": null,
            "grid_column": null,
            "grid_gap": null,
            "grid_row": null,
            "grid_template_areas": null,
            "grid_template_columns": null,
            "grid_template_rows": null,
            "height": null,
            "justify_content": null,
            "justify_items": null,
            "left": null,
            "margin": null,
            "max_height": null,
            "max_width": null,
            "min_height": null,
            "min_width": null,
            "object_fit": null,
            "object_position": null,
            "order": null,
            "overflow": null,
            "overflow_x": null,
            "overflow_y": null,
            "padding": null,
            "right": null,
            "top": null,
            "visibility": null,
            "width": null
          }
        },
        "83e886500c6b4bf0935c665f966cd813": {
          "model_module": "@jupyter-widgets/base",
          "model_name": "LayoutModel",
          "model_module_version": "1.2.0",
          "state": {
            "_model_module": "@jupyter-widgets/base",
            "_model_module_version": "1.2.0",
            "_model_name": "LayoutModel",
            "_view_count": null,
            "_view_module": "@jupyter-widgets/base",
            "_view_module_version": "1.2.0",
            "_view_name": "LayoutView",
            "align_content": null,
            "align_items": null,
            "align_self": null,
            "border": null,
            "bottom": null,
            "display": null,
            "flex": null,
            "flex_flow": null,
            "grid_area": null,
            "grid_auto_columns": null,
            "grid_auto_flow": null,
            "grid_auto_rows": null,
            "grid_column": null,
            "grid_gap": null,
            "grid_row": null,
            "grid_template_areas": null,
            "grid_template_columns": null,
            "grid_template_rows": null,
            "height": null,
            "justify_content": null,
            "justify_items": null,
            "left": null,
            "margin": null,
            "max_height": null,
            "max_width": null,
            "min_height": null,
            "min_width": null,
            "object_fit": null,
            "object_position": null,
            "order": null,
            "overflow": null,
            "overflow_x": null,
            "overflow_y": null,
            "padding": null,
            "right": null,
            "top": null,
            "visibility": null,
            "width": null
          }
        },
        "b0240a242fde4b1e831a182d9623c683": {
          "model_module": "@jupyter-widgets/controls",
          "model_name": "DescriptionStyleModel",
          "model_module_version": "1.5.0",
          "state": {
            "_model_module": "@jupyter-widgets/controls",
            "_model_module_version": "1.5.0",
            "_model_name": "DescriptionStyleModel",
            "_view_count": null,
            "_view_module": "@jupyter-widgets/base",
            "_view_module_version": "1.2.0",
            "_view_name": "StyleView",
            "description_width": ""
          }
        },
        "8d88b464b96d44fb8401daa6614c127c": {
          "model_module": "@jupyter-widgets/base",
          "model_name": "LayoutModel",
          "model_module_version": "1.2.0",
          "state": {
            "_model_module": "@jupyter-widgets/base",
            "_model_module_version": "1.2.0",
            "_model_name": "LayoutModel",
            "_view_count": null,
            "_view_module": "@jupyter-widgets/base",
            "_view_module_version": "1.2.0",
            "_view_name": "LayoutView",
            "align_content": null,
            "align_items": null,
            "align_self": null,
            "border": null,
            "bottom": null,
            "display": null,
            "flex": null,
            "flex_flow": null,
            "grid_area": null,
            "grid_auto_columns": null,
            "grid_auto_flow": null,
            "grid_auto_rows": null,
            "grid_column": null,
            "grid_gap": null,
            "grid_row": null,
            "grid_template_areas": null,
            "grid_template_columns": null,
            "grid_template_rows": null,
            "height": null,
            "justify_content": null,
            "justify_items": null,
            "left": null,
            "margin": null,
            "max_height": null,
            "max_width": null,
            "min_height": null,
            "min_width": null,
            "object_fit": null,
            "object_position": null,
            "order": null,
            "overflow": null,
            "overflow_x": null,
            "overflow_y": null,
            "padding": null,
            "right": null,
            "top": null,
            "visibility": null,
            "width": null
          }
        },
        "f79a90132fb04af68d12c8b8c8bf5354": {
          "model_module": "@jupyter-widgets/controls",
          "model_name": "ProgressStyleModel",
          "model_module_version": "1.5.0",
          "state": {
            "_model_module": "@jupyter-widgets/controls",
            "_model_module_version": "1.5.0",
            "_model_name": "ProgressStyleModel",
            "_view_count": null,
            "_view_module": "@jupyter-widgets/base",
            "_view_module_version": "1.2.0",
            "_view_name": "StyleView",
            "bar_color": null,
            "description_width": ""
          }
        },
        "25f0884cf45649fe86fcee04b8b822c1": {
          "model_module": "@jupyter-widgets/base",
          "model_name": "LayoutModel",
          "model_module_version": "1.2.0",
          "state": {
            "_model_module": "@jupyter-widgets/base",
            "_model_module_version": "1.2.0",
            "_model_name": "LayoutModel",
            "_view_count": null,
            "_view_module": "@jupyter-widgets/base",
            "_view_module_version": "1.2.0",
            "_view_name": "LayoutView",
            "align_content": null,
            "align_items": null,
            "align_self": null,
            "border": null,
            "bottom": null,
            "display": null,
            "flex": null,
            "flex_flow": null,
            "grid_area": null,
            "grid_auto_columns": null,
            "grid_auto_flow": null,
            "grid_auto_rows": null,
            "grid_column": null,
            "grid_gap": null,
            "grid_row": null,
            "grid_template_areas": null,
            "grid_template_columns": null,
            "grid_template_rows": null,
            "height": null,
            "justify_content": null,
            "justify_items": null,
            "left": null,
            "margin": null,
            "max_height": null,
            "max_width": null,
            "min_height": null,
            "min_width": null,
            "object_fit": null,
            "object_position": null,
            "order": null,
            "overflow": null,
            "overflow_x": null,
            "overflow_y": null,
            "padding": null,
            "right": null,
            "top": null,
            "visibility": null,
            "width": null
          }
        },
        "2ece82c5b46d470c9b69ed110cf64401": {
          "model_module": "@jupyter-widgets/controls",
          "model_name": "DescriptionStyleModel",
          "model_module_version": "1.5.0",
          "state": {
            "_model_module": "@jupyter-widgets/controls",
            "_model_module_version": "1.5.0",
            "_model_name": "DescriptionStyleModel",
            "_view_count": null,
            "_view_module": "@jupyter-widgets/base",
            "_view_module_version": "1.2.0",
            "_view_name": "StyleView",
            "description_width": ""
          }
        },
        "9fdef1b5d62c43248a25f13d16631a20": {
          "model_module": "@jupyter-widgets/controls",
          "model_name": "HBoxModel",
          "model_module_version": "1.5.0",
          "state": {
            "_dom_classes": [],
            "_model_module": "@jupyter-widgets/controls",
            "_model_module_version": "1.5.0",
            "_model_name": "HBoxModel",
            "_view_count": null,
            "_view_module": "@jupyter-widgets/controls",
            "_view_module_version": "1.5.0",
            "_view_name": "HBoxView",
            "box_style": "",
            "children": [
              "IPY_MODEL_d8e41afb546142debc9a54e387eb9a7f",
              "IPY_MODEL_08faea2316ce433da08c4d99264d3be3",
              "IPY_MODEL_8d727b75df4c4ef89c81863d96c2d73c"
            ],
            "layout": "IPY_MODEL_7ed56eb93266489d946afc8d1cd782cb"
          }
        },
        "d8e41afb546142debc9a54e387eb9a7f": {
          "model_module": "@jupyter-widgets/controls",
          "model_name": "HTMLModel",
          "model_module_version": "1.5.0",
          "state": {
            "_dom_classes": [],
            "_model_module": "@jupyter-widgets/controls",
            "_model_module_version": "1.5.0",
            "_model_name": "HTMLModel",
            "_view_count": null,
            "_view_module": "@jupyter-widgets/controls",
            "_view_module_version": "1.5.0",
            "_view_name": "HTMLView",
            "description": "",
            "description_tooltip": null,
            "layout": "IPY_MODEL_8cc0411e4b224bedb0d9bc4d2610d4ce",
            "placeholder": "​",
            "style": "IPY_MODEL_cb4ad32005f748f6b01f35ac14a180b0",
            "value": "Downloading tf_model.h5: 100%"
          }
        },
        "08faea2316ce433da08c4d99264d3be3": {
          "model_module": "@jupyter-widgets/controls",
          "model_name": "FloatProgressModel",
          "model_module_version": "1.5.0",
          "state": {
            "_dom_classes": [],
            "_model_module": "@jupyter-widgets/controls",
            "_model_module_version": "1.5.0",
            "_model_name": "FloatProgressModel",
            "_view_count": null,
            "_view_module": "@jupyter-widgets/controls",
            "_view_module_version": "1.5.0",
            "_view_name": "ProgressView",
            "bar_style": "success",
            "description": "",
            "description_tooltip": null,
            "layout": "IPY_MODEL_906a9b7a92744f0097c4f2826efcc7bc",
            "max": 3096618024,
            "min": 0,
            "orientation": "horizontal",
            "style": "IPY_MODEL_a3c002134e244233a2695b23606994ea",
            "value": 3096618024
          }
        },
        "8d727b75df4c4ef89c81863d96c2d73c": {
          "model_module": "@jupyter-widgets/controls",
          "model_name": "HTMLModel",
          "model_module_version": "1.5.0",
          "state": {
            "_dom_classes": [],
            "_model_module": "@jupyter-widgets/controls",
            "_model_module_version": "1.5.0",
            "_model_name": "HTMLModel",
            "_view_count": null,
            "_view_module": "@jupyter-widgets/controls",
            "_view_module_version": "1.5.0",
            "_view_name": "HTMLView",
            "description": "",
            "description_tooltip": null,
            "layout": "IPY_MODEL_3148e92428fd449f86baec649f1928ef",
            "placeholder": "​",
            "style": "IPY_MODEL_eab49740999c42f3815622791dd79b54",
            "value": " 3.10G/3.10G [01:11&lt;00:00, 54.6MB/s]"
          }
        },
        "7ed56eb93266489d946afc8d1cd782cb": {
          "model_module": "@jupyter-widgets/base",
          "model_name": "LayoutModel",
          "model_module_version": "1.2.0",
          "state": {
            "_model_module": "@jupyter-widgets/base",
            "_model_module_version": "1.2.0",
            "_model_name": "LayoutModel",
            "_view_count": null,
            "_view_module": "@jupyter-widgets/base",
            "_view_module_version": "1.2.0",
            "_view_name": "LayoutView",
            "align_content": null,
            "align_items": null,
            "align_self": null,
            "border": null,
            "bottom": null,
            "display": null,
            "flex": null,
            "flex_flow": null,
            "grid_area": null,
            "grid_auto_columns": null,
            "grid_auto_flow": null,
            "grid_auto_rows": null,
            "grid_column": null,
            "grid_gap": null,
            "grid_row": null,
            "grid_template_areas": null,
            "grid_template_columns": null,
            "grid_template_rows": null,
            "height": null,
            "justify_content": null,
            "justify_items": null,
            "left": null,
            "margin": null,
            "max_height": null,
            "max_width": null,
            "min_height": null,
            "min_width": null,
            "object_fit": null,
            "object_position": null,
            "order": null,
            "overflow": null,
            "overflow_x": null,
            "overflow_y": null,
            "padding": null,
            "right": null,
            "top": null,
            "visibility": null,
            "width": null
          }
        },
        "8cc0411e4b224bedb0d9bc4d2610d4ce": {
          "model_module": "@jupyter-widgets/base",
          "model_name": "LayoutModel",
          "model_module_version": "1.2.0",
          "state": {
            "_model_module": "@jupyter-widgets/base",
            "_model_module_version": "1.2.0",
            "_model_name": "LayoutModel",
            "_view_count": null,
            "_view_module": "@jupyter-widgets/base",
            "_view_module_version": "1.2.0",
            "_view_name": "LayoutView",
            "align_content": null,
            "align_items": null,
            "align_self": null,
            "border": null,
            "bottom": null,
            "display": null,
            "flex": null,
            "flex_flow": null,
            "grid_area": null,
            "grid_auto_columns": null,
            "grid_auto_flow": null,
            "grid_auto_rows": null,
            "grid_column": null,
            "grid_gap": null,
            "grid_row": null,
            "grid_template_areas": null,
            "grid_template_columns": null,
            "grid_template_rows": null,
            "height": null,
            "justify_content": null,
            "justify_items": null,
            "left": null,
            "margin": null,
            "max_height": null,
            "max_width": null,
            "min_height": null,
            "min_width": null,
            "object_fit": null,
            "object_position": null,
            "order": null,
            "overflow": null,
            "overflow_x": null,
            "overflow_y": null,
            "padding": null,
            "right": null,
            "top": null,
            "visibility": null,
            "width": null
          }
        },
        "cb4ad32005f748f6b01f35ac14a180b0": {
          "model_module": "@jupyter-widgets/controls",
          "model_name": "DescriptionStyleModel",
          "model_module_version": "1.5.0",
          "state": {
            "_model_module": "@jupyter-widgets/controls",
            "_model_module_version": "1.5.0",
            "_model_name": "DescriptionStyleModel",
            "_view_count": null,
            "_view_module": "@jupyter-widgets/base",
            "_view_module_version": "1.2.0",
            "_view_name": "StyleView",
            "description_width": ""
          }
        },
        "906a9b7a92744f0097c4f2826efcc7bc": {
          "model_module": "@jupyter-widgets/base",
          "model_name": "LayoutModel",
          "model_module_version": "1.2.0",
          "state": {
            "_model_module": "@jupyter-widgets/base",
            "_model_module_version": "1.2.0",
            "_model_name": "LayoutModel",
            "_view_count": null,
            "_view_module": "@jupyter-widgets/base",
            "_view_module_version": "1.2.0",
            "_view_name": "LayoutView",
            "align_content": null,
            "align_items": null,
            "align_self": null,
            "border": null,
            "bottom": null,
            "display": null,
            "flex": null,
            "flex_flow": null,
            "grid_area": null,
            "grid_auto_columns": null,
            "grid_auto_flow": null,
            "grid_auto_rows": null,
            "grid_column": null,
            "grid_gap": null,
            "grid_row": null,
            "grid_template_areas": null,
            "grid_template_columns": null,
            "grid_template_rows": null,
            "height": null,
            "justify_content": null,
            "justify_items": null,
            "left": null,
            "margin": null,
            "max_height": null,
            "max_width": null,
            "min_height": null,
            "min_width": null,
            "object_fit": null,
            "object_position": null,
            "order": null,
            "overflow": null,
            "overflow_x": null,
            "overflow_y": null,
            "padding": null,
            "right": null,
            "top": null,
            "visibility": null,
            "width": null
          }
        },
        "a3c002134e244233a2695b23606994ea": {
          "model_module": "@jupyter-widgets/controls",
          "model_name": "ProgressStyleModel",
          "model_module_version": "1.5.0",
          "state": {
            "_model_module": "@jupyter-widgets/controls",
            "_model_module_version": "1.5.0",
            "_model_name": "ProgressStyleModel",
            "_view_count": null,
            "_view_module": "@jupyter-widgets/base",
            "_view_module_version": "1.2.0",
            "_view_name": "StyleView",
            "bar_color": null,
            "description_width": ""
          }
        },
        "3148e92428fd449f86baec649f1928ef": {
          "model_module": "@jupyter-widgets/base",
          "model_name": "LayoutModel",
          "model_module_version": "1.2.0",
          "state": {
            "_model_module": "@jupyter-widgets/base",
            "_model_module_version": "1.2.0",
            "_model_name": "LayoutModel",
            "_view_count": null,
            "_view_module": "@jupyter-widgets/base",
            "_view_module_version": "1.2.0",
            "_view_name": "LayoutView",
            "align_content": null,
            "align_items": null,
            "align_self": null,
            "border": null,
            "bottom": null,
            "display": null,
            "flex": null,
            "flex_flow": null,
            "grid_area": null,
            "grid_auto_columns": null,
            "grid_auto_flow": null,
            "grid_auto_rows": null,
            "grid_column": null,
            "grid_gap": null,
            "grid_row": null,
            "grid_template_areas": null,
            "grid_template_columns": null,
            "grid_template_rows": null,
            "height": null,
            "justify_content": null,
            "justify_items": null,
            "left": null,
            "margin": null,
            "max_height": null,
            "max_width": null,
            "min_height": null,
            "min_width": null,
            "object_fit": null,
            "object_position": null,
            "order": null,
            "overflow": null,
            "overflow_x": null,
            "overflow_y": null,
            "padding": null,
            "right": null,
            "top": null,
            "visibility": null,
            "width": null
          }
        },
        "eab49740999c42f3815622791dd79b54": {
          "model_module": "@jupyter-widgets/controls",
          "model_name": "DescriptionStyleModel",
          "model_module_version": "1.5.0",
          "state": {
            "_model_module": "@jupyter-widgets/controls",
            "_model_module_version": "1.5.0",
            "_model_name": "DescriptionStyleModel",
            "_view_count": null,
            "_view_module": "@jupyter-widgets/base",
            "_view_module_version": "1.2.0",
            "_view_name": "StyleView",
            "description_width": ""
          }
        },
        "0f4a5faa31404249b28a9272477c0632": {
          "model_module": "@jupyter-widgets/controls",
          "model_name": "HBoxModel",
          "model_module_version": "1.5.0",
          "state": {
            "_dom_classes": [],
            "_model_module": "@jupyter-widgets/controls",
            "_model_module_version": "1.5.0",
            "_model_name": "HBoxModel",
            "_view_count": null,
            "_view_module": "@jupyter-widgets/controls",
            "_view_module_version": "1.5.0",
            "_view_name": "HBoxView",
            "box_style": "",
            "children": [
              "IPY_MODEL_63b54dc76cb743a0860782d1b83b2db4",
              "IPY_MODEL_f6a6762b92fe4ff591fee800c53011f7",
              "IPY_MODEL_65f33d415ec14bb381c1cf408b39d9cd"
            ],
            "layout": "IPY_MODEL_67715a179b16483998971d6f8dc3191d"
          }
        },
        "63b54dc76cb743a0860782d1b83b2db4": {
          "model_module": "@jupyter-widgets/controls",
          "model_name": "HTMLModel",
          "model_module_version": "1.5.0",
          "state": {
            "_dom_classes": [],
            "_model_module": "@jupyter-widgets/controls",
            "_model_module_version": "1.5.0",
            "_model_name": "HTMLModel",
            "_view_count": null,
            "_view_module": "@jupyter-widgets/controls",
            "_view_module_version": "1.5.0",
            "_view_name": "HTMLView",
            "description": "",
            "description_tooltip": null,
            "layout": "IPY_MODEL_7c1a27a51bb54a20b61f4ef63c502fac",
            "placeholder": "​",
            "style": "IPY_MODEL_7cf65c24005b4f1cb51a3ca391fb64ca",
            "value": "Downloading (…)neration_config.json: 100%"
          }
        },
        "f6a6762b92fe4ff591fee800c53011f7": {
          "model_module": "@jupyter-widgets/controls",
          "model_name": "FloatProgressModel",
          "model_module_version": "1.5.0",
          "state": {
            "_dom_classes": [],
            "_model_module": "@jupyter-widgets/controls",
            "_model_module_version": "1.5.0",
            "_model_name": "FloatProgressModel",
            "_view_count": null,
            "_view_module": "@jupyter-widgets/controls",
            "_view_module_version": "1.5.0",
            "_view_name": "ProgressView",
            "bar_style": "success",
            "description": "",
            "description_tooltip": null,
            "layout": "IPY_MODEL_fbb7452dd7274bdeb674242967939ffa",
            "max": 124,
            "min": 0,
            "orientation": "horizontal",
            "style": "IPY_MODEL_ed049989172f4af99f8be22184bf258a",
            "value": 124
          }
        },
        "65f33d415ec14bb381c1cf408b39d9cd": {
          "model_module": "@jupyter-widgets/controls",
          "model_name": "HTMLModel",
          "model_module_version": "1.5.0",
          "state": {
            "_dom_classes": [],
            "_model_module": "@jupyter-widgets/controls",
            "_model_module_version": "1.5.0",
            "_model_name": "HTMLModel",
            "_view_count": null,
            "_view_module": "@jupyter-widgets/controls",
            "_view_module_version": "1.5.0",
            "_view_name": "HTMLView",
            "description": "",
            "description_tooltip": null,
            "layout": "IPY_MODEL_110c2e071f554d45a40fda619e2d93f2",
            "placeholder": "​",
            "style": "IPY_MODEL_fe8420fd5d254905911dfacbf3336f39",
            "value": " 124/124 [00:00&lt;00:00, 3.64kB/s]"
          }
        },
        "67715a179b16483998971d6f8dc3191d": {
          "model_module": "@jupyter-widgets/base",
          "model_name": "LayoutModel",
          "model_module_version": "1.2.0",
          "state": {
            "_model_module": "@jupyter-widgets/base",
            "_model_module_version": "1.2.0",
            "_model_name": "LayoutModel",
            "_view_count": null,
            "_view_module": "@jupyter-widgets/base",
            "_view_module_version": "1.2.0",
            "_view_name": "LayoutView",
            "align_content": null,
            "align_items": null,
            "align_self": null,
            "border": null,
            "bottom": null,
            "display": null,
            "flex": null,
            "flex_flow": null,
            "grid_area": null,
            "grid_auto_columns": null,
            "grid_auto_flow": null,
            "grid_auto_rows": null,
            "grid_column": null,
            "grid_gap": null,
            "grid_row": null,
            "grid_template_areas": null,
            "grid_template_columns": null,
            "grid_template_rows": null,
            "height": null,
            "justify_content": null,
            "justify_items": null,
            "left": null,
            "margin": null,
            "max_height": null,
            "max_width": null,
            "min_height": null,
            "min_width": null,
            "object_fit": null,
            "object_position": null,
            "order": null,
            "overflow": null,
            "overflow_x": null,
            "overflow_y": null,
            "padding": null,
            "right": null,
            "top": null,
            "visibility": null,
            "width": null
          }
        },
        "7c1a27a51bb54a20b61f4ef63c502fac": {
          "model_module": "@jupyter-widgets/base",
          "model_name": "LayoutModel",
          "model_module_version": "1.2.0",
          "state": {
            "_model_module": "@jupyter-widgets/base",
            "_model_module_version": "1.2.0",
            "_model_name": "LayoutModel",
            "_view_count": null,
            "_view_module": "@jupyter-widgets/base",
            "_view_module_version": "1.2.0",
            "_view_name": "LayoutView",
            "align_content": null,
            "align_items": null,
            "align_self": null,
            "border": null,
            "bottom": null,
            "display": null,
            "flex": null,
            "flex_flow": null,
            "grid_area": null,
            "grid_auto_columns": null,
            "grid_auto_flow": null,
            "grid_auto_rows": null,
            "grid_column": null,
            "grid_gap": null,
            "grid_row": null,
            "grid_template_areas": null,
            "grid_template_columns": null,
            "grid_template_rows": null,
            "height": null,
            "justify_content": null,
            "justify_items": null,
            "left": null,
            "margin": null,
            "max_height": null,
            "max_width": null,
            "min_height": null,
            "min_width": null,
            "object_fit": null,
            "object_position": null,
            "order": null,
            "overflow": null,
            "overflow_x": null,
            "overflow_y": null,
            "padding": null,
            "right": null,
            "top": null,
            "visibility": null,
            "width": null
          }
        },
        "7cf65c24005b4f1cb51a3ca391fb64ca": {
          "model_module": "@jupyter-widgets/controls",
          "model_name": "DescriptionStyleModel",
          "model_module_version": "1.5.0",
          "state": {
            "_model_module": "@jupyter-widgets/controls",
            "_model_module_version": "1.5.0",
            "_model_name": "DescriptionStyleModel",
            "_view_count": null,
            "_view_module": "@jupyter-widgets/base",
            "_view_module_version": "1.2.0",
            "_view_name": "StyleView",
            "description_width": ""
          }
        },
        "fbb7452dd7274bdeb674242967939ffa": {
          "model_module": "@jupyter-widgets/base",
          "model_name": "LayoutModel",
          "model_module_version": "1.2.0",
          "state": {
            "_model_module": "@jupyter-widgets/base",
            "_model_module_version": "1.2.0",
            "_model_name": "LayoutModel",
            "_view_count": null,
            "_view_module": "@jupyter-widgets/base",
            "_view_module_version": "1.2.0",
            "_view_name": "LayoutView",
            "align_content": null,
            "align_items": null,
            "align_self": null,
            "border": null,
            "bottom": null,
            "display": null,
            "flex": null,
            "flex_flow": null,
            "grid_area": null,
            "grid_auto_columns": null,
            "grid_auto_flow": null,
            "grid_auto_rows": null,
            "grid_column": null,
            "grid_gap": null,
            "grid_row": null,
            "grid_template_areas": null,
            "grid_template_columns": null,
            "grid_template_rows": null,
            "height": null,
            "justify_content": null,
            "justify_items": null,
            "left": null,
            "margin": null,
            "max_height": null,
            "max_width": null,
            "min_height": null,
            "min_width": null,
            "object_fit": null,
            "object_position": null,
            "order": null,
            "overflow": null,
            "overflow_x": null,
            "overflow_y": null,
            "padding": null,
            "right": null,
            "top": null,
            "visibility": null,
            "width": null
          }
        },
        "ed049989172f4af99f8be22184bf258a": {
          "model_module": "@jupyter-widgets/controls",
          "model_name": "ProgressStyleModel",
          "model_module_version": "1.5.0",
          "state": {
            "_model_module": "@jupyter-widgets/controls",
            "_model_module_version": "1.5.0",
            "_model_name": "ProgressStyleModel",
            "_view_count": null,
            "_view_module": "@jupyter-widgets/base",
            "_view_module_version": "1.2.0",
            "_view_name": "StyleView",
            "bar_color": null,
            "description_width": ""
          }
        },
        "110c2e071f554d45a40fda619e2d93f2": {
          "model_module": "@jupyter-widgets/base",
          "model_name": "LayoutModel",
          "model_module_version": "1.2.0",
          "state": {
            "_model_module": "@jupyter-widgets/base",
            "_model_module_version": "1.2.0",
            "_model_name": "LayoutModel",
            "_view_count": null,
            "_view_module": "@jupyter-widgets/base",
            "_view_module_version": "1.2.0",
            "_view_name": "LayoutView",
            "align_content": null,
            "align_items": null,
            "align_self": null,
            "border": null,
            "bottom": null,
            "display": null,
            "flex": null,
            "flex_flow": null,
            "grid_area": null,
            "grid_auto_columns": null,
            "grid_auto_flow": null,
            "grid_auto_rows": null,
            "grid_column": null,
            "grid_gap": null,
            "grid_row": null,
            "grid_template_areas": null,
            "grid_template_columns": null,
            "grid_template_rows": null,
            "height": null,
            "justify_content": null,
            "justify_items": null,
            "left": null,
            "margin": null,
            "max_height": null,
            "max_width": null,
            "min_height": null,
            "min_width": null,
            "object_fit": null,
            "object_position": null,
            "order": null,
            "overflow": null,
            "overflow_x": null,
            "overflow_y": null,
            "padding": null,
            "right": null,
            "top": null,
            "visibility": null,
            "width": null
          }
        },
        "fe8420fd5d254905911dfacbf3336f39": {
          "model_module": "@jupyter-widgets/controls",
          "model_name": "DescriptionStyleModel",
          "model_module_version": "1.5.0",
          "state": {
            "_model_module": "@jupyter-widgets/controls",
            "_model_module_version": "1.5.0",
            "_model_name": "DescriptionStyleModel",
            "_view_count": null,
            "_view_module": "@jupyter-widgets/base",
            "_view_module_version": "1.2.0",
            "_view_name": "StyleView",
            "description_width": ""
          }
        }
      }
    }
  },
  "cells": [
    {
      "cell_type": "markdown",
      "source": [
        "ChatGPT2 by OpenAI has created a big change in the field of Artificial Intelligence. It is open sourced transformed based model trained on millions of web pages and papers.\n",
        "\n",
        "**What are transformers?** A transformer is a deep learning model that uses the mechanism of self-attention, differentially weighting the significance of each part of the input (which includes the recursive output) data. It is used primarily in the fields of natural language processing (NLP) and computer vision (CV).\n",
        "\n",
        "Self-attention is a mechanism for the network to contextualize words by paying attention to other words that make up its context in a body of text. The idea of self-attention is similar to the idea of attention introduced earlier, except that it’s used to contextualize words in a sentence as opposed to aligning words across translation as shown above.\n",
        "\n",
        "Consider these two sentences:\n",
        "\n",
        "\n",
        "\n",
        "1.   The doors of the **jaguar** are open.\n",
        "2.   The **jagaur** howled loudly.\n",
        "\n",
        "The first sentence is talking about a car and the second is talking about the animal. To solve this problem, transformer models use neural networks to generate a vector and key pair.\n",
        "\n",
        "\n",
        "\n",
        "**Generative pretrained transformers(GPT)** are a family of Transformer models trained by OpenAI for Language Modeling tasks. Few decoding methods can be applied on these models to get even better results.\n",
        "\n",
        "In this notebook we can observe different decoding methods such as Greedy search, Beam search, Top-K sampling and Top-p sampling that are applied on the models from transformers library."
      ],
      "metadata": {
        "id": "lap-tkHj35yz"
      }
    },
    {
      "cell_type": "code",
      "source": [
        "import pandas as pd\n",
        "import numpy as np"
      ],
      "metadata": {
        "id": "-IQyc6MNZVVr"
      },
      "execution_count": 1,
      "outputs": []
    },
    {
      "cell_type": "code",
      "execution_count": 2,
      "metadata": {
        "id": "_3SeWhfpZBpG"
      },
      "outputs": [],
      "source": [
        "input_sequence= \"The quick brown fox\""
      ]
    },
    {
      "cell_type": "code",
      "source": [
        "!pip install transformers\n",
        "#from transformers import *"
      ],
      "metadata": {
        "colab": {
          "base_uri": "https://localhost:8080/"
        },
        "id": "Y4yUAghcadIY",
        "outputId": "9786664b-83f1-4b5a-ce59-4466ea0bba11"
      },
      "execution_count": 3,
      "outputs": [
        {
          "output_type": "stream",
          "name": "stdout",
          "text": [
            "Looking in indexes: https://pypi.org/simple, https://us-python.pkg.dev/colab-wheels/public/simple/\n",
            "Collecting transformers\n",
            "  Downloading transformers-4.28.1-py3-none-any.whl (7.0 MB)\n",
            "\u001b[2K     \u001b[90m━━━━━━━━━━━━━━━━━━━━━━━━━━━━━━━━━━━━━━━━\u001b[0m \u001b[32m7.0/7.0 MB\u001b[0m \u001b[31m42.6 MB/s\u001b[0m eta \u001b[36m0:00:00\u001b[0m\n",
            "\u001b[?25hRequirement already satisfied: numpy>=1.17 in /usr/local/lib/python3.9/dist-packages (from transformers) (1.22.4)\n",
            "Requirement already satisfied: pyyaml>=5.1 in /usr/local/lib/python3.9/dist-packages (from transformers) (6.0)\n",
            "Collecting tokenizers!=0.11.3,<0.14,>=0.11.1\n",
            "  Downloading tokenizers-0.13.3-cp39-cp39-manylinux_2_17_x86_64.manylinux2014_x86_64.whl (7.8 MB)\n",
            "\u001b[2K     \u001b[90m━━━━━━━━━━━━━━━━━━━━━━━━━━━━━━━━━━━━━━━━\u001b[0m \u001b[32m7.8/7.8 MB\u001b[0m \u001b[31m90.0 MB/s\u001b[0m eta \u001b[36m0:00:00\u001b[0m\n",
            "\u001b[?25hRequirement already satisfied: filelock in /usr/local/lib/python3.9/dist-packages (from transformers) (3.11.0)\n",
            "Requirement already satisfied: packaging>=20.0 in /usr/local/lib/python3.9/dist-packages (from transformers) (23.1)\n",
            "Requirement already satisfied: tqdm>=4.27 in /usr/local/lib/python3.9/dist-packages (from transformers) (4.65.0)\n",
            "Requirement already satisfied: requests in /usr/local/lib/python3.9/dist-packages (from transformers) (2.27.1)\n",
            "Requirement already satisfied: regex!=2019.12.17 in /usr/local/lib/python3.9/dist-packages (from transformers) (2022.10.31)\n",
            "Collecting huggingface-hub<1.0,>=0.11.0\n",
            "  Downloading huggingface_hub-0.13.4-py3-none-any.whl (200 kB)\n",
            "\u001b[2K     \u001b[90m━━━━━━━━━━━━━━━━━━━━━━━━━━━━━━━━━━━━━━\u001b[0m \u001b[32m200.1/200.1 kB\u001b[0m \u001b[31m21.0 MB/s\u001b[0m eta \u001b[36m0:00:00\u001b[0m\n",
            "\u001b[?25hRequirement already satisfied: typing-extensions>=3.7.4.3 in /usr/local/lib/python3.9/dist-packages (from huggingface-hub<1.0,>=0.11.0->transformers) (4.5.0)\n",
            "Requirement already satisfied: urllib3<1.27,>=1.21.1 in /usr/local/lib/python3.9/dist-packages (from requests->transformers) (1.26.15)\n",
            "Requirement already satisfied: charset-normalizer~=2.0.0 in /usr/local/lib/python3.9/dist-packages (from requests->transformers) (2.0.12)\n",
            "Requirement already satisfied: certifi>=2017.4.17 in /usr/local/lib/python3.9/dist-packages (from requests->transformers) (2022.12.7)\n",
            "Requirement already satisfied: idna<4,>=2.5 in /usr/local/lib/python3.9/dist-packages (from requests->transformers) (3.4)\n",
            "Installing collected packages: tokenizers, huggingface-hub, transformers\n",
            "Successfully installed huggingface-hub-0.13.4 tokenizers-0.13.3 transformers-4.28.1\n"
          ]
        }
      ]
    },
    {
      "cell_type": "code",
      "source": [
        "from transformers import TFGPT2LMHeadModel, GPT2Tokenizer"
      ],
      "metadata": {
        "id": "b5ozz20dZw8F"
      },
      "execution_count": 4,
      "outputs": []
    },
    {
      "cell_type": "code",
      "source": [
        "tokenizer = GPT2Tokenizer.from_pretrained(\"gpt2-large\")   # large GPT2 tokenizer and GPT2 model\n",
        "GPT2_model = TFGPT2LMHeadModel.from_pretrained(\"gpt2-large\", pad_token_id=tokenizer.eos_token_id)"
      ],
      "metadata": {
        "colab": {
          "base_uri": "https://localhost:8080/",
          "height": 246,
          "referenced_widgets": [
            "d49777f3bfa1437bb7b442582df11feb",
            "8bc46769dc764a2eac121c6255ddd88b",
            "298cbc52c380483a817f1b3d99ef8187",
            "e45cde8fd14b48bf8e57071ab7ffe01e",
            "9fca374c81a54a799b387a6d51f9e08c",
            "385a7aa928ed4638b2f19098b33b07c2",
            "58de92cad1e54d34b74a44e63ad07b9b",
            "05c8ceb00b0a4ce99e50878037dd1969",
            "11f3a5f491274ba685f9f80c6afb92d0",
            "1e4350ae540948a3a6cdf3f5472f7e53",
            "5326e4c6f7a340388954c8e29b51cd28",
            "508f275d5ecb47c981b2b4dfb2bdde69",
            "e4e88b722d0e43e68ff60e3aae0f5f71",
            "6821e8f1d8a14fcc8223e35b076af5d9",
            "496cc2c247ec456782bc3794d0b10f59",
            "22b2c32dcfd24e8fbc4d40b2ad10a999",
            "59d6ea28e1184b1da4d1128ca4bd714e",
            "2d4ff9058f0d4773b8c852b2026e702e",
            "0ca4e24ad57846d2be17ee4b52cbd5f9",
            "7262d8e7f5df4a0693a6a710bfae50dc",
            "8670c854b07b4ca1bd269b341891c9d4",
            "74daceafa715465c88682b1d26ea8c30",
            "70608264aae64e53b98f0f9a7df307e7",
            "572dfdaf04c4489b85cd464312be09e7",
            "ca52e2d8866a4552acd031a53cd43405",
            "706cb9d6c7364da08c4946b7355558dd",
            "98019ea1ef5044368852ba5a0338e685",
            "83e886500c6b4bf0935c665f966cd813",
            "b0240a242fde4b1e831a182d9623c683",
            "8d88b464b96d44fb8401daa6614c127c",
            "f79a90132fb04af68d12c8b8c8bf5354",
            "25f0884cf45649fe86fcee04b8b822c1",
            "2ece82c5b46d470c9b69ed110cf64401",
            "9fdef1b5d62c43248a25f13d16631a20",
            "d8e41afb546142debc9a54e387eb9a7f",
            "08faea2316ce433da08c4d99264d3be3",
            "8d727b75df4c4ef89c81863d96c2d73c",
            "7ed56eb93266489d946afc8d1cd782cb",
            "8cc0411e4b224bedb0d9bc4d2610d4ce",
            "cb4ad32005f748f6b01f35ac14a180b0",
            "906a9b7a92744f0097c4f2826efcc7bc",
            "a3c002134e244233a2695b23606994ea",
            "3148e92428fd449f86baec649f1928ef",
            "eab49740999c42f3815622791dd79b54",
            "0f4a5faa31404249b28a9272477c0632",
            "63b54dc76cb743a0860782d1b83b2db4",
            "f6a6762b92fe4ff591fee800c53011f7",
            "65f33d415ec14bb381c1cf408b39d9cd",
            "67715a179b16483998971d6f8dc3191d",
            "7c1a27a51bb54a20b61f4ef63c502fac",
            "7cf65c24005b4f1cb51a3ca391fb64ca",
            "fbb7452dd7274bdeb674242967939ffa",
            "ed049989172f4af99f8be22184bf258a",
            "110c2e071f554d45a40fda619e2d93f2",
            "fe8420fd5d254905911dfacbf3336f39"
          ]
        },
        "id": "rSF25OduaqLb",
        "outputId": "51a63058-6b38-4e61-8b9d-eed93ff61e10"
      },
      "execution_count": 5,
      "outputs": [
        {
          "output_type": "display_data",
          "data": {
            "text/plain": [
              "Downloading (…)olve/main/vocab.json:   0%|          | 0.00/1.04M [00:00<?, ?B/s]"
            ],
            "application/vnd.jupyter.widget-view+json": {
              "version_major": 2,
              "version_minor": 0,
              "model_id": "d49777f3bfa1437bb7b442582df11feb"
            }
          },
          "metadata": {}
        },
        {
          "output_type": "display_data",
          "data": {
            "text/plain": [
              "Downloading (…)olve/main/merges.txt:   0%|          | 0.00/456k [00:00<?, ?B/s]"
            ],
            "application/vnd.jupyter.widget-view+json": {
              "version_major": 2,
              "version_minor": 0,
              "model_id": "508f275d5ecb47c981b2b4dfb2bdde69"
            }
          },
          "metadata": {}
        },
        {
          "output_type": "display_data",
          "data": {
            "text/plain": [
              "Downloading (…)lve/main/config.json:   0%|          | 0.00/666 [00:00<?, ?B/s]"
            ],
            "application/vnd.jupyter.widget-view+json": {
              "version_major": 2,
              "version_minor": 0,
              "model_id": "70608264aae64e53b98f0f9a7df307e7"
            }
          },
          "metadata": {}
        },
        {
          "output_type": "display_data",
          "data": {
            "text/plain": [
              "Downloading tf_model.h5:   0%|          | 0.00/3.10G [00:00<?, ?B/s]"
            ],
            "application/vnd.jupyter.widget-view+json": {
              "version_major": 2,
              "version_minor": 0,
              "model_id": "9fdef1b5d62c43248a25f13d16631a20"
            }
          },
          "metadata": {}
        },
        {
          "output_type": "stream",
          "name": "stderr",
          "text": [
            "All model checkpoint layers were used when initializing TFGPT2LMHeadModel.\n",
            "\n",
            "All the layers of TFGPT2LMHeadModel were initialized from the model checkpoint at gpt2-large.\n",
            "If your task is similar to the task the model of the checkpoint was trained on, you can already use TFGPT2LMHeadModel for predictions without further training.\n"
          ]
        },
        {
          "output_type": "display_data",
          "data": {
            "text/plain": [
              "Downloading (…)neration_config.json:   0%|          | 0.00/124 [00:00<?, ?B/s]"
            ],
            "application/vnd.jupyter.widget-view+json": {
              "version_major": 2,
              "version_minor": 0,
              "model_id": "0f4a5faa31404249b28a9272477c0632"
            }
          },
          "metadata": {}
        }
      ]
    },
    {
      "cell_type": "code",
      "source": [
        "GPT2_model.summary()"
      ],
      "metadata": {
        "colab": {
          "base_uri": "https://localhost:8080/"
        },
        "id": "Mq4_WL1BdT56",
        "outputId": "e9b03895-0806-491e-aa3f-025fd8ac26c0"
      },
      "execution_count": 6,
      "outputs": [
        {
          "output_type": "stream",
          "name": "stdout",
          "text": [
            "Model: \"tfgpt2lm_head_model\"\n",
            "_________________________________________________________________\n",
            " Layer (type)                Output Shape              Param #   \n",
            "=================================================================\n",
            " transformer (TFGPT2MainLaye  multiple                 774030080 \n",
            " r)                                                              \n",
            "                                                                 \n",
            "=================================================================\n",
            "Total params: 774,030,080\n",
            "Trainable params: 774,030,080\n",
            "Non-trainable params: 0\n",
            "_________________________________________________________________\n"
          ]
        }
      ]
    },
    {
      "cell_type": "markdown",
      "source": [
        "It can be see that GPT2 has 774M parameters."
      ],
      "metadata": {
        "id": "X6smoyIcS034"
      }
    },
    {
      "cell_type": "code",
      "source": [
        "import tensorflow as tf\n",
        "tf.random.set_seed(0)"
      ],
      "metadata": {
        "id": "3GnCCr9s1n8P"
      },
      "execution_count": 7,
      "outputs": []
    },
    {
      "cell_type": "markdown",
      "source": [
        "## Utilizing only GPT2 (Greedy search)"
      ],
      "metadata": {
        "id": "cK9jxVBSjdgI"
      }
    },
    {
      "cell_type": "markdown",
      "source": [
        "Greedy search simply selects the word with the highest probability as its next word.The following sketch shows greedy search:![image.png](data:image/png;base64,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)"
      ],
      "metadata": {
        "id": "YYBnJKvYA_eN"
      }
    },
    {
      "cell_type": "markdown",
      "source": [
        "The red line indicates the output that will be generated due to the high probability."
      ],
      "metadata": {
        "id": "VaMnz9cbBz_I"
      }
    },
    {
      "cell_type": "code",
      "source": [
        "input_ids = tokenizer.encode(input_sequence, return_tensors='tf') # encode context"
      ],
      "metadata": {
        "id": "r60sc4VdjhMC"
      },
      "execution_count": 8,
      "outputs": []
    },
    {
      "cell_type": "code",
      "source": [
        "output_tokens = GPT2_model.generate(input_ids, max_length=50, num_return_sequences=3, do_sample=True) #Generate output of length 50"
      ],
      "metadata": {
        "id": "zlwpMGegjq6H"
      },
      "execution_count": 9,
      "outputs": []
    },
    {
      "cell_type": "code",
      "source": [
        "output_text = [tokenizer.decode(output_token,skip_special_tokens=True) for output_token in output_tokens] #decode"
      ],
      "metadata": {
        "id": "2AfvhefGjyix"
      },
      "execution_count": 10,
      "outputs": []
    },
    {
      "cell_type": "code",
      "source": [
        "for i, output_tokens in enumerate(output_tokens):\n",
        "      print(\"{}: {}\".format(i, tokenizer.decode(output_tokens, skip_special_tokens=True)))"
      ],
      "metadata": {
        "colab": {
          "base_uri": "https://localhost:8080/"
        },
        "id": "2k3ZVBQl6Oli",
        "outputId": "350fc387-6298-4e4e-931a-62ba37922988"
      },
      "execution_count": 11,
      "outputs": [
        {
          "output_type": "stream",
          "name": "stdout",
          "text": [
            "0: The quick brown fox jumps over the lazy dog that keeps trotting behind him,\" O'Brien writes, \"the fox is not too upset with the dog in a general way — he just won't let him go too far, so he keeps\n",
            "1: The quick brown fox jumps over the lazy dog.\" [3]\n",
            "\n",
            "\"The quick brown fox jumps over the lazy dog.\" \"Homer, when I'm finished with them, I'll put them all in a barrel.\" [2]\n",
            "\n",
            "2: The quick brown fox jumped out of the window, looked down the street and looked back at the person watching him. A small moment of panic crossed his face before his face relaxed. \"He's coming!\" he commanded. He jumped out and spun and\n"
          ]
        }
      ]
    },
    {
      "cell_type": "markdown",
      "source": [
        "The output seems to be so random.\n",
        "\n",
        "The major drawback of greedy search though is that it misses high probability words hidden behind a low probability word as it can observed in the diagram."
      ],
      "metadata": {
        "id": "a0xb1hSakgLw"
      }
    },
    {
      "cell_type": "markdown",
      "source": [
        "## Beam Search"
      ],
      "metadata": {
        "id": "kVV4l_dFgHlM"
      }
    },
    {
      "cell_type": "markdown",
      "source": [
        "It is similar to greedy search except that it keeps track of the second most  likely one using **num_beams.**\n",
        "![image.png](data:image/png;base64,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)"
      ],
      "metadata": {
        "id": "7HcxxfjHgL9U"
      }
    },
    {
      "cell_type": "markdown",
      "source": [
        "It is keeping track of two most likely outcomes( as num_beams is 2)."
      ],
      "metadata": {
        "id": "glMvDaVFEpvD"
      }
    },
    {
      "cell_type": "code",
      "source": [
        "beam_output = GPT2_model.generate(\n",
        "    input_ids, \n",
        "    max_length=50, \n",
        "    num_beams=4, \n",
        "    num_return_sequences = 4,\n",
        "    no_repeat_ngram_size=2,\n",
        "    early_stopping=True\n",
        ")\n"
      ],
      "metadata": {
        "id": "43nUfganemPQ"
      },
      "execution_count": 12,
      "outputs": []
    },
    {
      "cell_type": "code",
      "source": [
        "# Decode the generated sequences into human-readable text\n",
        "generated_sequences = []\n",
        "for sequence in beam_output:\n",
        "    generated_sequence = tokenizer.decode(sequence, clean_up_tokenization_spaces=True)\n",
        "    generated_sequences.append(generated_sequence)"
      ],
      "metadata": {
        "id": "mfI8pvtkvnB0"
      },
      "execution_count": 13,
      "outputs": []
    },
    {
      "cell_type": "code",
      "source": [
        "print(\"Starting sentence:\", input_sequence)\n",
        "print(\"Generated sequences:\", generated_sequences)\n",
        "print(\"Most probable sequence:\", generated_sequences[0])"
      ],
      "metadata": {
        "colab": {
          "base_uri": "https://localhost:8080/"
        },
        "id": "rCMyk5Y9wS7a",
        "outputId": "80c28f1b-ce36-4dde-e6b9-f1934227ed1f"
      },
      "execution_count": 14,
      "outputs": [
        {
          "output_type": "stream",
          "name": "stdout",
          "text": [
            "Starting sentence: The quick brown fox\n",
            "Generated sequences: ['The quick brown fox jumps over the lazy dog.\"\\n\\n\"I\\'m not lazy,\" I said. \"I just don\\'t have the energy to do it all the time. I\\'m just not that good at it. It\\'s not like I', 'The quick brown fox jumps over the lazy dog.\"\\n\\n\"I\\'m not lazy,\" I said. \"I just don\\'t have the energy to do it all the time. I\\'m just not that good at it. It\\'s a lot of', 'The quick brown fox jumps over the lazy dog.\"\\n\\n\"I\\'m not lazy,\" I said. \"I just don\\'t have the energy to do it all the time. I\\'m just not that good at it. It\\'s not my thing', 'The quick brown fox jumps over the lazy dog.\"\\n\\n\"I\\'m not lazy,\" I said. \"I just don\\'t have the energy to do it all the time. I\\'m just not that good at it. It\\'s not my fault']\n",
            "Most probable sequence: The quick brown fox jumps over the lazy dog.\"\n",
            "\n",
            "\"I'm not lazy,\" I said. \"I just don't have the energy to do it all the time. I'm just not that good at it. It's not like I\n"
          ]
        }
      ]
    },
    {
      "cell_type": "code",
      "source": [
        "for i, beam_output in enumerate(beam_output):\n",
        "      print(\"{}: {}\".format(i, tokenizer.decode(beam_output, skip_special_tokens=True)))"
      ],
      "metadata": {
        "colab": {
          "base_uri": "https://localhost:8080/"
        },
        "id": "Q7j74Onf6Ckh",
        "outputId": "df9dcb76-3b13-49fa-cada-5015810f29ac"
      },
      "execution_count": 15,
      "outputs": [
        {
          "output_type": "stream",
          "name": "stdout",
          "text": [
            "0: The quick brown fox jumps over the lazy dog.\"\n",
            "\n",
            "\"I'm not lazy,\" I said. \"I just don't have the energy to do it all the time. I'm just not that good at it. It's not like I\n",
            "1: The quick brown fox jumps over the lazy dog.\"\n",
            "\n",
            "\"I'm not lazy,\" I said. \"I just don't have the energy to do it all the time. I'm just not that good at it. It's a lot of\n",
            "2: The quick brown fox jumps over the lazy dog.\"\n",
            "\n",
            "\"I'm not lazy,\" I said. \"I just don't have the energy to do it all the time. I'm just not that good at it. It's not my thing\n",
            "3: The quick brown fox jumps over the lazy dog.\"\n",
            "\n",
            "\"I'm not lazy,\" I said. \"I just don't have the energy to do it all the time. I'm just not that good at it. It's not my fault\n"
          ]
        }
      ]
    },
    {
      "cell_type": "markdown",
      "source": [
        "As can be seen, the four beam hypotheses are only marginally different to each other. But if we increaed num_beams, then we would see some more variation in the separate beams.\n",
        "\n",
        "Research shows that human languages do not follow this 'high probability word next' distribution. This makes sense - if my words were exactly what you expected them to be, I would be quite a boring person and most people don't want to be boring! Hence beam search is suitable for cases such as summarization but not for dialogs."
      ],
      "metadata": {
        "id": "jmplEUslFAll"
      }
    },
    {
      "cell_type": "markdown",
      "source": [
        "## Sampling"
      ],
      "metadata": {
        "id": "cjpHt0js8dOP"
      }
    },
    {
      "cell_type": "markdown",
      "source": [
        "Instead of following a strict path to find the end text with the highest probability, we randomly pick the next word by its conditional probability distribution. ( Lot of math involved).\n",
        "\n",
        "Introducing randomness may lead to inconsistency or no logic sentences. Hence temeprature parameter is utilized This temperature parameter increases the chances of high probability words and decreases the chances of low probability words in the sampling."
      ],
      "metadata": {
        "id": "VXJG60gvFUfQ"
      }
    },
    {
      "cell_type": "code",
      "source": [
        "tf.random.set_seed(0)\n",
        "\n",
        "# use temperature to decrease the sensitivity to low probability candidates\n",
        "sample_output = GPT2_model.generate(\n",
        "    input_ids, \n",
        "    do_sample=True, \n",
        "    max_length=50, \n",
        "    top_k=0, \n",
        "    temperature=0.7\n",
        ")\n"
      ],
      "metadata": {
        "id": "0ZcMwAoh9Cqt"
      },
      "execution_count": 16,
      "outputs": []
    },
    {
      "cell_type": "code",
      "source": [
        "print(tokenizer.decode(sample_output[0], skip_special_tokens=True))"
      ],
      "metadata": {
        "colab": {
          "base_uri": "https://localhost:8080/"
        },
        "id": "feMsJxPi-TyJ",
        "outputId": "1198d782-6c47-41c5-9e3e-d083bbee84d3"
      },
      "execution_count": 17,
      "outputs": [
        {
          "output_type": "stream",
          "name": "stdout",
          "text": [
            "The quick brown fox jumps over the lazy dog and jumps into the window with the lazy dog in its jaws. The quick brown fox jumps over the lazy dog and jumps in the window with the lazy dog in its jaws. The quick brown fox jumps over\n"
          ]
        }
      ]
    },
    {
      "cell_type": "markdown",
      "source": [
        "While applying temperature can make a distribution less random, in its limit, when setting temperature approximately to 0, temperature scaled sampling becomes equal to greedy decoding and will suffer from the same problems as before."
      ],
      "metadata": {
        "id": "HuOpO9weIVV-"
      }
    },
    {
      "cell_type": "markdown",
      "source": [
        "## Top-k sampling"
      ],
      "metadata": {
        "id": "qyjBuiP-_Mb_"
      }
    },
    {
      "cell_type": "markdown",
      "source": [
        "Here, instead of increasing the chances of high probability words  and decreasing the chances of low probabillity words, we just remove low probability words all together. The top k most likely next words are selected and the entire probability mass is shifted to these k words.\n",
        "\n",
        "**GPT2 adopted this sampling scheme, which was one of the reasons for its success in story generation**\n",
        "\n",
        "We need to set top_k to however many of the top words we want to consider for our conditional probability distribution."
      ],
      "metadata": {
        "id": "Lf7rxSAJPudz"
      }
    },
    {
      "cell_type": "code",
      "source": [
        "tf.random.set_seed(0)\n",
        "\n",
        "# set top_k to 50\n",
        "sample_output = GPT2_model.generate(\n",
        "    input_ids, \n",
        "    do_sample=True, \n",
        "    max_length=50,\n",
        "    num_return_sequences = 4,\n",
        "    top_k=50\n",
        ")\n"
      ],
      "metadata": {
        "id": "zXwZFhbC_Qp3"
      },
      "execution_count": 18,
      "outputs": []
    },
    {
      "cell_type": "code",
      "source": [
        "for i, s in enumerate(sample_output):\n",
        "      print(\"{}: {}\".format(i, tokenizer.decode(s, skip_special_tokens=True)))"
      ],
      "metadata": {
        "colab": {
          "base_uri": "https://localhost:8080/"
        },
        "id": "8tRt5GSxAkY_",
        "outputId": "0c13310e-9220-4940-d139-757167c08db4"
      },
      "execution_count": 19,
      "outputs": [
        {
          "output_type": "stream",
          "name": "stdout",
          "text": [
            "0: The quick brown fox jumps over the lazy dog that keeps trotting behind him,\" O'Brien writes, \"the fox is not too upset with the dog in a general way — he just won't let him go too far, so he keeps\n",
            "1: The quick brown fox jumps out of the bush with claws outstretched, just like it does when trying to catch any other creature.\n",
            "\n",
            "They just have this natural ability to catch predators where there may already be one. What's more is that with\n",
            "2: The quick brown fox jumped out of the window, looked down the street and looked back at the person watching him. A small moment of panic crossed his face before his face relaxed. \"He's coming!\" he commanded. He jumped out and spun and\n",
            "3: The quick brown fox jumps over the lazy dog and onto the tracks, hopping down them like he's nothing. His eyes are wide and wide, taking in everything that's happened around him.\n",
            "\n",
            "He stares at the track again and begins jumping up\n"
          ]
        }
      ]
    },
    {
      "cell_type": "markdown",
      "source": [
        "## Top-p (nucleus) sampling"
      ],
      "metadata": {
        "id": "Ef-GpFVlBh5h"
      }
    },
    {
      "cell_type": "markdown",
      "source": [
        "Rather than selecting the top k most likely words, we select the smallest set of words whose total probability is greater than p (set value), and the entire probability mass is shifted to the words in this set."
      ],
      "metadata": {
        "id": "fjtIfjhWQrAD"
      }
    },
    {
      "cell_type": "code",
      "source": [
        "# using both top_k and top_p\n",
        "sample_outputs = GPT2_model.generate(\n",
        "    input_ids,\n",
        "    do_sample=True, \n",
        "    max_length=50, \n",
        "    top_k=50, \n",
        "    top_p=0.95, \n",
        "    num_return_sequences=3\n",
        ")"
      ],
      "metadata": {
        "id": "tGiSG65JBl6k"
      },
      "execution_count": 20,
      "outputs": []
    },
    {
      "cell_type": "code",
      "source": [
        "print(\"Output:\\n\" + 100 * '-')\n",
        "for i, sample_output in enumerate(sample_outputs):\n",
        "  print(\"{}: {}\".format(i, tokenizer.decode(sample_output, skip_special_tokens=True)))"
      ],
      "metadata": {
        "colab": {
          "base_uri": "https://localhost:8080/"
        },
        "id": "QNTaIDiMB9xp",
        "outputId": "2c6875f1-3c92-453c-b6fa-6ca29e81dd19"
      },
      "execution_count": 21,
      "outputs": [
        {
          "output_type": "stream",
          "name": "stdout",
          "text": [
            "Output:\n",
            "----------------------------------------------------------------------------------------------------\n",
            "0: The quick brown fox jumps the fence,\" she told me. \"It jumps in and stays forever, then jumps off, and a couple of days later, there's a coyote or a mountain lion. And then they're gone.\"\n",
            "\n",
            "In\n",
            "1: The quick brown fox jumps from its hole.\"\n",
            "\n",
            "This little story is repeated in a few places; but if we go back to our story from a moment ago, this is the beginning.\n",
            "\n",
            "And then we know the way, or the\n",
            "2: The quick brown fox jumped back in her foxy way and looked at the floor. \"I told you what I have to do. You see, I will be an honorary apprentice. And by honorary... you mean you only will be able to use\n"
          ]
        }
      ]
    },
    {
      "cell_type": "markdown",
      "source": [
        "Top-p can also be combined with Top-K to avoid very low ranked words while still allowing for some dynamic selection.\n",
        "\n"
      ],
      "metadata": {
        "id": "C5-KTECSRIWG"
      }
    },
    {
      "cell_type": "markdown",
      "source": [
        "Top-p and top-K sampling appear to produce more fluent text than traditional greedy and beam search on open-ended language generation.\n",
        "\n",
        "Open-ended language generation is a rapidly evolving field of study, and as is often the case, there is no one-size-fits-all solution, so one must determine what works best in one's specific use case."
      ],
      "metadata": {
        "id": "Z9byNKV-R802"
      }
    }
  ]
}